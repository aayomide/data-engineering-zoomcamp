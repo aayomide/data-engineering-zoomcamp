{
 "cells": [
  {
   "cell_type": "markdown",
   "id": "b497ac67",
   "metadata": {},
   "source": [
    "## GroupBy and Joins in Spark\n",
    "- How groupBy works internally in Spark\n",
    "- Shuffling\n",
    "- Joining two large tables\n",
    "- Merge Sort Join\n",
    "- Joining a large table to a small table\n",
    "- Broadcasting\n",
    "- [Video](https://youtu.be/9qrDsY_2COo)"
   ]
  },
  {
   "cell_type": "code",
   "execution_count": 1,
   "id": "b87acd35",
   "metadata": {},
   "outputs": [],
   "source": [
    "import pyspark\n",
    "from pyspark.sql import SparkSession"
   ]
  },
  {
   "cell_type": "markdown",
   "id": "65382cc2",
   "metadata": {},
   "source": [
    "#### Create a Local Spark Cluster"
   ]
  },
  {
   "cell_type": "code",
   "execution_count": 2,
   "id": "4341e0e6",
   "metadata": {},
   "outputs": [
    {
     "name": "stderr",
     "output_type": "stream",
     "text": [
      "Setting default log level to \"WARN\".\n",
      "To adjust logging level use sc.setLogLevel(newLevel). For SparkR, use setLogLevel(newLevel).\n"
     ]
    },
    {
     "name": "stdout",
     "output_type": "stream",
     "text": [
      "24/07/02 00:20:54 WARN NativeCodeLoader: Unable to load native-hadoop library for your platform... using builtin-java classes where applicable\n",
      "24/07/02 00:20:55 WARN Utils: Service 'SparkUI' could not bind on port 4040. Attempting port 4041.\n",
      "24/07/02 00:20:55 WARN Utils: Service 'SparkUI' could not bind on port 4041. Attempting port 4042.\n",
      "24/07/02 00:20:55 WARN Utils: Service 'SparkUI' could not bind on port 4042. Attempting port 4043.\n"
     ]
    }
   ],
   "source": [
    "spark = SparkSession.builder \\\n",
    "    .master(\"local[*]\") \\\n",
    "    .appName('test') \\\n",
    "    .getOrCreate()"
   ]
  },
  {
   "cell_type": "markdown",
   "id": "755a68b2",
   "metadata": {},
   "source": [
    "#### Load the Data and Register a Temporary Table"
   ]
  },
  {
   "cell_type": "code",
   "execution_count": 3,
   "id": "cd304aec",
   "metadata": {},
   "outputs": [
    {
     "name": "stderr",
     "output_type": "stream",
     "text": [
      "                                                                                \r"
     ]
    }
   ],
   "source": [
    "df_green = spark.read.parquet('data/pq/green/*/*')"
   ]
  },
  {
   "cell_type": "code",
   "execution_count": 4,
   "id": "243991f3",
   "metadata": {},
   "outputs": [
    {
     "name": "stderr",
     "output_type": "stream",
     "text": [
      "/home/aayomide/spark/spark-3.3.2-bin-hadoop3/python/pyspark/sql/dataframe.py:229: FutureWarning: Deprecated in 2.0, use createOrReplaceTempView instead.\n",
      "  warnings.warn(\"Deprecated in 2.0, use createOrReplaceTempView instead.\", FutureWarning)\n"
     ]
    }
   ],
   "source": [
    "df_green.registerTempTable('green')"
   ]
  },
  {
   "cell_type": "markdown",
   "id": "a1af49bd",
   "metadata": {},
   "source": [
    "#### Group By"
   ]
  },
  {
   "cell_type": "code",
   "execution_count": 5,
   "id": "e43764a7",
   "metadata": {},
   "outputs": [],
   "source": [
    "# get the total amount and number of trips per hour, since January 2021\n",
    "df_green_revenue = spark.sql(\"\"\"\n",
    "SELECT \n",
    "    date_trunc('hour', lpep_pickup_datetime) AS hour, \n",
    "    PULocationID AS zone,\n",
    "\n",
    "    SUM(total_amount) AS amount,\n",
    "    COUNT(1) AS number_records\n",
    "FROM\n",
    "    green\n",
    "WHERE\n",
    "    lpep_pickup_datetime >= '2020-01-01 00:00:00'\n",
    "GROUP BY\n",
    "    1, 2\n",
    "\"\"\")"
   ]
  },
  {
   "cell_type": "code",
   "execution_count": 6,
   "id": "3e00310e",
   "metadata": {},
   "outputs": [
    {
     "name": "stderr",
     "output_type": "stream",
     "text": [
      "                                                                                \r"
     ]
    }
   ],
   "source": [
    "df_green_revenue \\\n",
    "    .repartition(20) \\\n",
    "    .write.parquet('data/report/revenue/green', mode='overwrite')"
   ]
  },
  {
   "cell_type": "code",
   "execution_count": 7,
   "id": "07ebb68c",
   "metadata": {},
   "outputs": [],
   "source": [
    "df_yellow = spark.read.parquet('data/pq/yellow/*/*')\n",
    "df_yellow.registerTempTable('yellow')"
   ]
  },
  {
   "cell_type": "code",
   "execution_count": 8,
   "id": "9d5be29d",
   "metadata": {},
   "outputs": [],
   "source": [
    "df_yellow_revenue = spark.sql(\"\"\"\n",
    "SELECT \n",
    "    date_trunc('hour', tpep_pickup_datetime) AS hour, \n",
    "    PULocationID AS zone,\n",
    "\n",
    "    SUM(total_amount) AS amount,\n",
    "    COUNT(1) AS number_records\n",
    "FROM\n",
    "    yellow\n",
    "WHERE\n",
    "    tpep_pickup_datetime >= '2020-01-01 00:00:00'\n",
    "GROUP BY\n",
    "    1, 2\n",
    "\"\"\")"
   ]
  },
  {
   "cell_type": "code",
   "execution_count": 9,
   "id": "8bd9264e",
   "metadata": {},
   "outputs": [
    {
     "name": "stderr",
     "output_type": "stream",
     "text": [
      "                                                                                \r"
     ]
    }
   ],
   "source": [
    "df_yellow_revenue \\\n",
    "    .repartition(20) \\\n",
    "    .write.parquet('data/report/revenue/yellow', mode='overwrite')"
   ]
  },
  {
   "cell_type": "code",
   "execution_count": 10,
   "id": "6681ff44",
   "metadata": {},
   "outputs": [
    {
     "data": {
      "text/plain": [
       "DataFrame[hour: timestamp, zone: int, amount: double, number_records: bigint]"
      ]
     },
     "execution_count": 10,
     "metadata": {},
     "output_type": "execute_result"
    }
   ],
   "source": [
    "spark.read.parquet('data/report/revenue/green')"
   ]
  },
  {
   "cell_type": "markdown",
   "id": "118bd250",
   "metadata": {},
   "source": [
    "#### Spark Joins"
   ]
  },
  {
   "cell_type": "code",
   "execution_count": 11,
   "id": "fd5d74d7",
   "metadata": {},
   "outputs": [],
   "source": [
    "df_green_revenue = spark.read.parquet('data/report/revenue/green')\n",
    "df_yellow_revenue = spark.read.parquet('data/report/revenue/yellow')"
   ]
  },
  {
   "cell_type": "code",
   "execution_count": 12,
   "id": "35015ee6",
   "metadata": {},
   "outputs": [],
   "source": [
    "df_green_revenue_tmp = df_green_revenue \\\n",
    "    .withColumnRenamed('amount', 'green_amount') \\\n",
    "    .withColumnRenamed('number_records', 'green_number_records')\n",
    "\n",
    "df_yellow_revenue_tmp = df_yellow_revenue \\\n",
    "    .withColumnRenamed('amount', 'yellow_amount') \\\n",
    "    .withColumnRenamed('number_records', 'yellow_number_records')"
   ]
  },
  {
   "cell_type": "code",
   "execution_count": 13,
   "id": "d3736be9",
   "metadata": {},
   "outputs": [
    {
     "data": {
      "text/plain": [
       "DataFrame[hour: timestamp, zone: int, green_amount: double, green_number_records: bigint, yellow_amount: double, yellow_number_records: bigint]"
      ]
     },
     "execution_count": 13,
     "metadata": {},
     "output_type": "execute_result"
    }
   ],
   "source": [
    "df_green_revenue_tmp.join(df_yellow_revenue_tmp, on=['hour', 'zone'], how='outer')"
   ]
  },
  {
   "cell_type": "code",
   "execution_count": 14,
   "id": "ec9f34ea",
   "metadata": {},
   "outputs": [],
   "source": [
    "df_join = df_green_revenue_tmp.join(df_yellow_revenue_tmp, on=['hour', 'zone'], how='outer')"
   ]
  },
  {
   "cell_type": "code",
   "execution_count": 25,
   "id": "86cadc91",
   "metadata": {},
   "outputs": [
    {
     "name": "stdout",
     "output_type": "stream",
     "text": [
      "+-------------------+----+------------+--------------------+-------------+---------------------+\n",
      "|               hour|zone|green_amount|green_number_records|yellow_amount|yellow_number_records|\n",
      "+-------------------+----+------------+--------------------+-------------+---------------------+\n",
      "|2020-02-02 23:00:00|  43|        null|                null|         14.8|                    1|\n",
      "|2020-02-02 23:00:00|  90|        null|                null|        17.16|                    1|\n",
      "|2020-02-02 23:00:00| 107|        null|                null|        14.12|                    1|\n",
      "|2020-02-03 17:00:00| 170|        null|                null|        17.76|                    1|\n",
      "|2020-02-03 18:00:00|  48|        null|                null|          8.8|                    1|\n",
      "|2020-02-03 20:00:00|  75|        null|                null|        17.76|                    1|\n",
      "|2020-02-03 22:00:00|  48|        null|                null|        49.42|                    1|\n",
      "|2020-02-04 08:00:00|  74|        null|                null|          8.8|                    1|\n",
      "|2020-02-04 09:00:00|  43|        null|                null|        18.96|                    1|\n",
      "|2020-02-04 10:00:00|  43|        null|                null|        11.16|                    1|\n",
      "+-------------------+----+------------+--------------------+-------------+---------------------+\n",
      "only showing top 10 rows\n",
      "\n"
     ]
    }
   ],
   "source": [
    "df_join.show(10)"
   ]
  },
  {
   "cell_type": "markdown",
   "id": "5a4091fd",
   "metadata": {},
   "source": [
    "> The nulls are expected as some values present in green data are absent in yellow data and vice versa"
   ]
  },
  {
   "cell_type": "code",
   "execution_count": 16,
   "id": "10238be7",
   "metadata": {},
   "outputs": [
    {
     "name": "stderr",
     "output_type": "stream",
     "text": [
      "                                                                                \r"
     ]
    }
   ],
   "source": [
    "# write the joined dataframe to a parquet file\n",
    "df_join.write.parquet('data/report/revenue/total', mode='overwrite')"
   ]
  },
  {
   "cell_type": "code",
   "execution_count": 17,
   "id": "c3af7169",
   "metadata": {},
   "outputs": [],
   "source": [
    "df_join = spark.read.parquet('data/report/revenue/total')"
   ]
  },
  {
   "cell_type": "code",
   "execution_count": 18,
   "id": "bc2a6680",
   "metadata": {},
   "outputs": [
    {
     "data": {
      "text/plain": [
       "DataFrame[hour: timestamp, zone: int, green_amount: double, green_number_records: bigint, yellow_amount: double, yellow_number_records: bigint]"
      ]
     },
     "execution_count": 18,
     "metadata": {},
     "output_type": "execute_result"
    }
   ],
   "source": [
    "df_join"
   ]
  },
  {
   "cell_type": "markdown",
   "id": "a846dc5f",
   "metadata": {},
   "source": [
    "#### Joining a Large Table and a Small Table"
   ]
  },
  {
   "cell_type": "code",
   "execution_count": 19,
   "id": "abb46398",
   "metadata": {},
   "outputs": [],
   "source": [
    "df_zones = spark.read.parquet('zones/')"
   ]
  },
  {
   "cell_type": "code",
   "execution_count": 20,
   "id": "03513b50",
   "metadata": {},
   "outputs": [
    {
     "name": "stdout",
     "output_type": "stream",
     "text": [
      "+----------+---------+--------------------+------------+\n",
      "|LocationID|  Borough|                Zone|service_zone|\n",
      "+----------+---------+--------------------+------------+\n",
      "|         1|      EWR|      Newark Airport|         EWR|\n",
      "|         2|   Queens|         Jamaica Bay|   Boro Zone|\n",
      "|         3|    Bronx|Allerton/Pelham G...|   Boro Zone|\n",
      "|         4|Manhattan|       Alphabet City| Yellow Zone|\n",
      "+----------+---------+--------------------+------------+\n",
      "only showing top 4 rows\n",
      "\n"
     ]
    }
   ],
   "source": [
    "spark.read.parquet('zones/').show(4)"
   ]
  },
  {
   "cell_type": "code",
   "execution_count": 21,
   "id": "b3cf98a5",
   "metadata": {},
   "outputs": [],
   "source": [
    "# we didnt use join \"on\" here because the common column to join are named differently in the two datasets\n",
    "df_result = df_join.join(df_zones, df_join.zone == df_zones.LocationID)"
   ]
  },
  {
   "cell_type": "code",
   "execution_count": 26,
   "id": "7ee1876f",
   "metadata": {},
   "outputs": [
    {
     "name": "stdout",
     "output_type": "stream",
     "text": [
      "+-------------------+----+------------+--------------------+-------------+---------------------+----------+---------+------------+------------+\n",
      "|               hour|zone|green_amount|green_number_records|yellow_amount|yellow_number_records|LocationID|  Borough|        Zone|service_zone|\n",
      "+-------------------+----+------------+--------------------+-------------+---------------------+----------+---------+------------+------------+\n",
      "|2020-02-02 23:00:00|  43|        null|                null|         14.8|                    1|        43|Manhattan|Central Park| Yellow Zone|\n",
      "|2020-02-02 23:00:00|  90|        null|                null|        17.16|                    1|        90|Manhattan|    Flatiron| Yellow Zone|\n",
      "|2020-02-02 23:00:00| 107|        null|                null|        14.12|                    1|       107|Manhattan|    Gramercy| Yellow Zone|\n",
      "|2020-02-03 17:00:00| 170|        null|                null|        17.76|                    1|       170|Manhattan| Murray Hill| Yellow Zone|\n",
      "|2020-02-03 18:00:00|  48|        null|                null|          8.8|                    1|        48|Manhattan|Clinton East| Yellow Zone|\n",
      "+-------------------+----+------------+--------------------+-------------+---------------------+----------+---------+------------+------------+\n",
      "only showing top 5 rows\n",
      "\n"
     ]
    }
   ],
   "source": [
    "df_result.show(5)"
   ]
  },
  {
   "cell_type": "code",
   "execution_count": 23,
   "id": "5e0614ba",
   "metadata": {
    "scrolled": true
   },
   "outputs": [
    {
     "name": "stderr",
     "output_type": "stream",
     "text": [
      "                                                                                \r"
     ]
    }
   ],
   "source": [
    "# drop locationID and zone since we now have the borough names\n",
    "df_result.drop('LocationID', 'zone').write.parquet('tmp/revenue-zones', mode='overwrite')"
   ]
  },
  {
   "cell_type": "code",
   "execution_count": 24,
   "id": "9f5ca913",
   "metadata": {},
   "outputs": [
    {
     "name": "stdout",
     "output_type": "stream",
     "text": [
      "+-------------------+------------+--------------------+-------------+---------------------+---------+------------+\n",
      "|               hour|green_amount|green_number_records|yellow_amount|yellow_number_records|  Borough|service_zone|\n",
      "+-------------------+------------+--------------------+-------------+---------------------+---------+------------+\n",
      "|2020-02-02 23:00:00|        null|                null|         14.8|                    1|Manhattan| Yellow Zone|\n",
      "|2020-02-02 23:00:00|        null|                null|        17.16|                    1|Manhattan| Yellow Zone|\n",
      "|2020-02-02 23:00:00|        null|                null|        14.12|                    1|Manhattan| Yellow Zone|\n",
      "|2020-02-03 17:00:00|        null|                null|        17.76|                    1|Manhattan| Yellow Zone|\n",
      "|2020-02-03 18:00:00|        null|                null|          8.8|                    1|Manhattan| Yellow Zone|\n",
      "+-------------------+------------+--------------------+-------------+---------------------+---------+------------+\n",
      "only showing top 5 rows\n",
      "\n"
     ]
    }
   ],
   "source": [
    "spark.read.parquet('tmp/revenue-zones').show(5)"
   ]
  },
  {
   "cell_type": "code",
   "execution_count": null,
   "id": "9ad949b8",
   "metadata": {},
   "outputs": [],
   "source": []
  }
 ],
 "metadata": {
  "kernelspec": {
   "display_name": "Python 3 (ipykernel)",
   "language": "python",
   "name": "python3"
  },
  "language_info": {
   "codemirror_mode": {
    "name": "ipython",
    "version": 3
   },
   "file_extension": ".py",
   "mimetype": "text/x-python",
   "name": "python",
   "nbconvert_exporter": "python",
   "pygments_lexer": "ipython3",
   "version": "3.9.7"
  }
 },
 "nbformat": 4,
 "nbformat_minor": 5
}
